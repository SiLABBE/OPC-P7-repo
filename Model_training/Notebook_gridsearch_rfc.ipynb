{
 "cells": [
  {
   "attachments": {},
   "cell_type": "markdown",
   "metadata": {},
   "source": [
    "### Specific notebook for Random Forest GridSearch "
   ]
  },
  {
   "cell_type": "code",
   "execution_count": 1,
   "metadata": {},
   "outputs": [],
   "source": [
    "from pers_library.grid_search_train import grid_search_train"
   ]
  },
  {
   "cell_type": "code",
   "execution_count": 2,
   "metadata": {},
   "outputs": [
    {
     "name": "stdout",
     "output_type": "stream",
     "text": [
      "100%|██████████| 10/10 [05:58<00:00, 35.81s/trial, best loss: 0.006712071659873371]\n",
      "100%|██████████| 10/10 [14:11<00:00, 85.13s/trial, best loss: 0.05983388290672782]\n"
     ]
    }
   ],
   "source": [
    "rfc_20 = grid_search_train( \n",
    "    n_features=20,\n",
    "    model_choice='rfc',\n",
    "    n_estimator_list=[5, 10, 25, 50, 100],\n",
    "    max_depth_list=[None, 50, 100, 1000],\n",
    "    SMOTE_data=False\n",
    "    )\n",
    "\n",
    "rfc_20_smote = grid_search_train( \n",
    "    n_features=20,\n",
    "    model_choice='rfc',\n",
    "    n_estimator_list=[5, 10, 25, 50, 100],\n",
    "    max_depth_list=[None, 50, 100, 1000],\n",
    "    SMOTE_data=True\n",
    "    )"
   ]
  },
  {
   "cell_type": "code",
   "execution_count": 3,
   "metadata": {},
   "outputs": [
    {
     "name": "stdout",
     "output_type": "stream",
     "text": [
      "100%|██████████| 10/10 [04:53<00:00, 29.34s/trial, best loss: 0.004881683616957003]\n",
      "100%|██████████| 10/10 [19:08<00:00, 114.88s/trial, best loss: 0.012606598432932574]\n"
     ]
    }
   ],
   "source": [
    "rfc_50 = grid_search_train( \n",
    "    n_features=50,\n",
    "    model_choice='rfc',\n",
    "    n_estimator_list=[5, 10, 25, 50, 100],\n",
    "    max_depth_list=[None, 50, 100, 1000],\n",
    "    SMOTE_data=False\n",
    "    )\n",
    "\n",
    "rfc_50_smote = grid_search_train( \n",
    "    n_features=50,\n",
    "    model_choice='rfc',\n",
    "    n_estimator_list=[5, 10, 25, 50, 100],\n",
    "    max_depth_list=[None, 50, 100, 1000],\n",
    "    SMOTE_data=True\n",
    "    )"
   ]
  },
  {
   "cell_type": "code",
   "execution_count": 5,
   "metadata": {},
   "outputs": [
    {
     "name": "stdout",
     "output_type": "stream",
     "text": [
      "100%|██████████| 10/10 [11:47<00:00, 70.71s/trial, best loss: 0.0026443464758494437]\n",
      "100%|██████████| 10/10 [16:32<00:00, 99.20s/trial, best loss: 0.009152161480777441] \n"
     ]
    }
   ],
   "source": [
    "rfc_100 = grid_search_train( \n",
    "    n_features=100,\n",
    "    model_choice='rfc',\n",
    "    n_estimator_list=[5, 10, 25, 50, 100],\n",
    "    max_depth_list=[None, 50, 100, 1000],\n",
    "    SMOTE_data=False\n",
    "    )\n",
    "\n",
    "rfc_100_smote = grid_search_train( \n",
    "    n_features=100,\n",
    "    model_choice='rfc',\n",
    "    n_estimator_list=[5, 10, 25, 50, 100],\n",
    "    max_depth_list=[None, 50, 100, 1000],\n",
    "    SMOTE_data=True\n",
    "    )"
   ]
  },
  {
   "cell_type": "code",
   "execution_count": 4,
   "metadata": {},
   "outputs": [
    {
     "name": "stdout",
     "output_type": "stream",
     "text": [
      "100%|██████████| 10/10 [08:19<00:00, 49.92s/trial, best loss: 0.0038647673788660265]\n",
      "100%|██████████| 10/10 [54:59<00:00, 329.90s/trial, best loss: 0.004068176188280028] \n"
     ]
    }
   ],
   "source": [
    "rfc_200 = grid_search_train( \n",
    "    n_features=200,\n",
    "    model_choice='rfc',\n",
    "    n_estimator_list=[5, 10, 25, 50, 100],\n",
    "    max_depth_list=[None, 50, 100, 1000],\n",
    "    SMOTE_data=False\n",
    "    )\n",
    "\n",
    "rfc_200_smote = grid_search_train( \n",
    "    n_features=200,\n",
    "    model_choice='rfc',\n",
    "    n_estimator_list=[5, 10, 25, 50, 100],\n",
    "    max_depth_list=[None, 50, 100, 1000],\n",
    "    SMOTE_data=True\n",
    "    )"
   ]
  }
 ],
 "metadata": {
  "kernelspec": {
   "display_name": "base",
   "language": "python",
   "name": "python3"
  },
  "language_info": {
   "codemirror_mode": {
    "name": "ipython",
    "version": 3
   },
   "file_extension": ".py",
   "mimetype": "text/x-python",
   "name": "python",
   "nbconvert_exporter": "python",
   "pygments_lexer": "ipython3",
   "version": "3.9.15 (main, Nov 24 2022, 14:39:17) [MSC v.1916 64 bit (AMD64)]"
  },
  "orig_nbformat": 4,
  "vscode": {
   "interpreter": {
    "hash": "6945d058fa2283592a3092c582c6fcd6fd376a4c10473867d3cf0017f05d949a"
   }
  }
 },
 "nbformat": 4,
 "nbformat_minor": 2
}
