{
 "cells": [
  {
   "cell_type": "code",
   "execution_count": 1,
   "metadata": {},
   "outputs": [
    {
     "name": "stdout",
     "output_type": "stream",
     "text": [
      "Train samples: 307511, test samples: 48744\n",
      "Bureau df shape: (305811, 116)\n",
      "Process bureau and bureau_balance - done in 87s\n",
      "Previous applications df shape: (338857, 249)\n",
      "Process previous_applications - done in 90s\n",
      "Pos-cash balance df shape: (337252, 18)\n",
      "Process POS-CASH balance - done in 73s\n",
      "Installments payments df shape: (339587, 26)\n",
      "Process installments payments - done in 101s\n",
      "Credit card balance df shape: (103558, 141)\n",
      "Process credit card balance - done in 112s\n",
      "Missing value management - done in 981s\n"
     ]
    }
   ],
   "source": [
    "from pers_library import feat_eng\n",
    "\n",
    "df_train, df_test = feat_eng.complete_process()"
   ]
  },
  {
   "cell_type": "code",
   "execution_count": 2,
   "metadata": {},
   "outputs": [],
   "source": [
    "import pandas as pd\n",
    "df_selected = pd.read_csv('df_model_selected_1pcust.csv')"
   ]
  },
  {
   "cell_type": "code",
   "execution_count": 9,
   "metadata": {},
   "outputs": [],
   "source": [
    "selected_features_list = df_selected.columns.to_list()[2:-2]\n",
    "\n",
    "df_train_selected = df_train[selected_features_list]\n",
    "df_test_selected = df_test[selected_features_list]"
   ]
  },
  {
   "cell_type": "code",
   "execution_count": 17,
   "metadata": {},
   "outputs": [],
   "source": [
    "df_test_selected[:25000].to_csv(\"df_test_selected_25k.csv\", index=False)\n",
    "df_train_selected[:25000].to_csv(\"df_train_selected_25k.csv\", index=False)"
   ]
  },
  {
   "cell_type": "code",
   "execution_count": 2,
   "metadata": {},
   "outputs": [],
   "source": [
    "import pandas as pd\n",
    "from evidently.dashboard import Dashboard\n",
    "from evidently.dashboard.tabs import DataDriftTab"
   ]
  },
  {
   "cell_type": "code",
   "execution_count": null,
   "metadata": {},
   "outputs": [],
   "source": [
    "df_test_selected = pd.read_csv(\"df_test_selected_25k.csv\")\n",
    "df_train_selected = pd.read_csv(\"df_train_selected_25k.csv\")"
   ]
  },
  {
   "cell_type": "code",
   "execution_count": null,
   "metadata": {},
   "outputs": [],
   "source": [
    "data_drift_dashboard = Dashboard(tabs=[DataDriftTab(verbose_level=1)])\n",
    "data_drift_dashboard.calculate(df_tr[:25000], df[25000:], column_mapping=None)\n",
    "data_drift_dashboard.save('DataDrift.html')\n",
    "print('Data Drift saved')"
   ]
  }
 ],
 "metadata": {
  "kernelspec": {
   "display_name": "base",
   "language": "python",
   "name": "python3"
  },
  "language_info": {
   "codemirror_mode": {
    "name": "ipython",
    "version": 3
   },
   "file_extension": ".py",
   "mimetype": "text/x-python",
   "name": "python",
   "nbconvert_exporter": "python",
   "pygments_lexer": "ipython3",
   "version": "3.9.15"
  },
  "orig_nbformat": 4,
  "vscode": {
   "interpreter": {
    "hash": "6945d058fa2283592a3092c582c6fcd6fd376a4c10473867d3cf0017f05d949a"
   }
  }
 },
 "nbformat": 4,
 "nbformat_minor": 2
}
