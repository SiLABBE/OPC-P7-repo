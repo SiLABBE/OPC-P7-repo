{
 "cells": [
  {
   "attachments": {},
   "cell_type": "markdown",
   "metadata": {},
   "source": [
    "### Specific notebook for Logistic Regression GridSearch "
   ]
  },
  {
   "cell_type": "code",
   "execution_count": 1,
   "metadata": {},
   "outputs": [],
   "source": [
    "from pers_library.grid_search_train import grid_search_train"
   ]
  },
  {
   "cell_type": "code",
   "execution_count": 2,
   "metadata": {},
   "outputs": [
    {
     "name": "stdout",
     "output_type": "stream",
     "text": [
      "100%|██████████| 10/10 [00:29<00:00,  2.99s/trial, best loss: 0.6480189543418352]\n"
     ]
    }
   ],
   "source": [
    "lr_20 = grid_search_train( \n",
    "    n_features=20,\n",
    "    model_choice='lr',\n",
    "    solver_list=['lbfgs', 'liblinear', 'newton-cg', 'sag'],\n",
    "    C_list=[0.01, 0.1, 1, 10, 100],\n",
    "    )"
   ]
  },
  {
   "cell_type": "code",
   "execution_count": 3,
   "metadata": {},
   "outputs": [
    {
     "name": "stdout",
     "output_type": "stream",
     "text": [
      "100%|██████████| 10/10 [02:25<00:00, 14.57s/trial, best loss: 0.6587126338992227]\n"
     ]
    }
   ],
   "source": [
    "lr_50 = grid_search_train( \n",
    "    n_features=50,\n",
    "    model_choice='lr',\n",
    "    solver_list=['lbfgs', 'liblinear', 'newton-cg', 'sag'],\n",
    "    C_list=[0.01, 0.1, 1, 10, 100],\n",
    "    )"
   ]
  },
  {
   "cell_type": "code",
   "execution_count": 4,
   "metadata": {},
   "outputs": [
    {
     "name": "stdout",
     "output_type": "stream",
     "text": [
      "100%|██████████| 10/10 [22:21<00:00, 134.13s/trial, best loss: 0.6604856725626918] \n"
     ]
    }
   ],
   "source": [
    "lr_100 = grid_search_train( \n",
    "    n_features=100,\n",
    "    model_choice='lr',\n",
    "    solver_list=['lbfgs', 'liblinear', 'newton-cg', 'sag'],\n",
    "    C_list=[0.01, 0.1, 1, 10, 100],\n",
    "    )"
   ]
  },
  {
   "cell_type": "code",
   "execution_count": 5,
   "metadata": {},
   "outputs": [
    {
     "name": "stdout",
     "output_type": "stream",
     "text": [
      "100%|██████████| 10/10 [36:53<00:00, 221.31s/trial, best loss: 0.6752467930923083]\n"
     ]
    }
   ],
   "source": [
    "lr_200 = grid_search_train( \n",
    "    n_features=200,\n",
    "    model_choice='lr',\n",
    "    solver_list=['lbfgs', 'liblinear', 'newton-cg', 'sag'],\n",
    "    C_list=[0.01, 0.1, 1, 10, 100],\n",
    "    )"
   ]
  },
  {
   "cell_type": "code",
   "execution_count": 12,
   "metadata": {},
   "outputs": [
    {
     "data": {
      "text/plain": [
       "{'C': 2, 'class_weight': 0, 'solver': 1}"
      ]
     },
     "execution_count": 12,
     "metadata": {},
     "output_type": "execute_result"
    }
   ],
   "source": [
    "lr_200"
   ]
  }
 ],
 "metadata": {
  "kernelspec": {
   "display_name": "base",
   "language": "python",
   "name": "python3"
  },
  "language_info": {
   "codemirror_mode": {
    "name": "ipython",
    "version": 3
   },
   "file_extension": ".py",
   "mimetype": "text/x-python",
   "name": "python",
   "nbconvert_exporter": "python",
   "pygments_lexer": "ipython3",
   "version": "3.9.15 (main, Nov 24 2022, 14:39:17) [MSC v.1916 64 bit (AMD64)]"
  },
  "orig_nbformat": 4,
  "vscode": {
   "interpreter": {
    "hash": "6945d058fa2283592a3092c582c6fcd6fd376a4c10473867d3cf0017f05d949a"
   }
  }
 },
 "nbformat": 4,
 "nbformat_minor": 2
}
